{
 "cells": [
  {
   "cell_type": "markdown",
   "id": "cc6b7b9f-a75d-4b78-930f-26d2343ac2c2",
   "metadata": {},
   "source": [
    "# Lesson 3: Enable Logging"
   ]
  },
  {
   "cell_type": "markdown",
   "id": "06fc5839-0b4b-42a3-9aaf-99a97e347955",
   "metadata": {},
   "source": [
    "### Import all needed packages"
   ]
  },
  {
   "cell_type": "code",
   "execution_count": 8,
   "id": "63cf31e4",
   "metadata": {
    "height": 98
   },
   "outputs": [],
   "source": [
    "import boto3\n",
    "import json\n",
    "import os\n",
    "\n",
    "bedrock = boto3.client('bedrock', region_name=\"us-west-2\")"
   ]
  },
  {
   "cell_type": "code",
   "execution_count": 9,
   "id": "e5d9e31b",
   "metadata": {
    "height": 47
   },
   "outputs": [],
   "source": [
    "from helpers.CloudWatchHelper import CloudWatch_Helper\n",
    "cloudwatch = CloudWatch_Helper()"
   ]
  },
  {
   "cell_type": "code",
   "execution_count": 10,
   "id": "87a30e7e",
   "metadata": {
    "height": 30
   },
   "outputs": [],
   "source": [
    "log_group_name = '/my/amazon/bedrock/logs'"
   ]
  },
  {
   "cell_type": "code",
   "execution_count": 11,
   "id": "2461a51c",
   "metadata": {
    "height": 30
   },
   "outputs": [
    {
     "name": "stdout",
     "output_type": "stream",
     "text": [
      "Log group '/my/amazon/bedrock/logs' already exists.\n"
     ]
    }
   ],
   "source": [
    "cloudwatch.create_log_group(log_group_name)"
   ]
  },
  {
   "cell_type": "code",
   "execution_count": 12,
   "id": "0afe5997",
   "metadata": {
    "height": 302
   },
   "outputs": [],
   "source": [
    "# This is for the large log data that has to be stored from cloudwatch to s3\n",
    "loggingConfig = {\n",
    "    'cloudWatchConfig': {\n",
    "        'logGroupName': log_group_name,\n",
    "        'roleArn': os.environ['LOGGINGROLEARN'],\n",
    "        'largeDataDeliveryS3Config': {\n",
    "            'bucketName': os.environ['LOGGINGBUCKETNAME'],\n",
    "            'keyPrefix': 'amazon_bedrock_large_data_delivery',\n",
    "        }\n",
    "    },\n",
    "#this is to directly store the logs into s3\n",
    "    's3Config': {\n",
    "        'bucketName': os.environ['LOGGINGBUCKETNAME'],\n",
    "        'keyPrefix': 'amazon_bedrock_logs',\n",
    "    },\n",
    "    'textDataDeliveryEnabled': True,\n",
    "}"
   ]
  },
  {
   "cell_type": "code",
   "execution_count": 13,
   "id": "2ca33ffe",
   "metadata": {
    "height": 30
   },
   "outputs": [
    {
     "data": {
      "text/plain": [
       "{'ResponseMetadata': {'RequestId': '12471319-6606-4e8b-8852-854f3af07266',\n",
       "  'HTTPStatusCode': 200,\n",
       "  'HTTPHeaders': {'date': 'Fri, 14 Jun 2024 06:02:51 GMT',\n",
       "   'content-type': 'application/json',\n",
       "   'content-length': '2',\n",
       "   'connection': 'keep-alive',\n",
       "   'x-amzn-requestid': '12471319-6606-4e8b-8852-854f3af07266'},\n",
       "  'RetryAttempts': 0}}"
      ]
     },
     "execution_count": 13,
     "metadata": {},
     "output_type": "execute_result"
    }
   ],
   "source": [
    "bedrock.put_model_invocation_logging_configuration(loggingConfig=loggingConfig)"
   ]
  },
  {
   "cell_type": "code",
   "execution_count": 14,
   "id": "41fdb20d",
   "metadata": {
    "height": 30
   },
   "outputs": [
    {
     "data": {
      "text/plain": [
       "{'ResponseMetadata': {'RequestId': 'c9ecc860-d559-4084-8aa2-2a8bf4e3f34e',\n",
       "  'HTTPStatusCode': 200,\n",
       "  'HTTPHeaders': {'date': 'Fri, 14 Jun 2024 06:02:56 GMT',\n",
       "   'content-type': 'application/json',\n",
       "   'content-length': '572',\n",
       "   'connection': 'keep-alive',\n",
       "   'x-amzn-requestid': 'c9ecc860-d559-4084-8aa2-2a8bf4e3f34e'},\n",
       "  'RetryAttempts': 0},\n",
       " 'loggingConfig': {'cloudWatchConfig': {'logGroupName': '/my/amazon/bedrock/logs',\n",
       "   'roleArn': 'arn:aws:iam::144537045289:role/c99355a2566044l6914547t1w14453704528-LoggingIAMRole-AW3iZ4VpkjTY',\n",
       "   'largeDataDeliveryS3Config': {'bucketName': 'c99355a2566044l6914547t1w144537045-loggings3bucket-i81a5j4abwd6',\n",
       "    'keyPrefix': 'amazon_bedrock_large_data_delivery'}},\n",
       "  's3Config': {'bucketName': 'c99355a2566044l6914547t1w144537045-loggings3bucket-i81a5j4abwd6',\n",
       "   'keyPrefix': 'amazon_bedrock_logs'},\n",
       "  'textDataDeliveryEnabled': True,\n",
       "  'imageDataDeliveryEnabled': True,\n",
       "  'embeddingDataDeliveryEnabled': True}}"
      ]
     },
     "execution_count": 14,
     "metadata": {},
     "output_type": "execute_result"
    }
   ],
   "source": [
    "bedrock.get_model_invocation_logging_configuration()"
   ]
  },
  {
   "cell_type": "code",
   "execution_count": 15,
   "id": "95ebecb7",
   "metadata": {
    "height": 30
   },
   "outputs": [],
   "source": [
    "bedrock_runtime = boto3.client('bedrock-runtime', region_name=\"us-west-2\")"
   ]
  },
  {
   "cell_type": "code",
   "execution_count": 16,
   "id": "402c6311",
   "metadata": {
    "height": 421
   },
   "outputs": [
    {
     "name": "stdout",
     "output_type": "stream",
     "text": [
      "\n",
      "Foobar is a fictional planet in the Star Wars universe, first mentioned in the 1977 film Star Wars: Episode IV - A New Hope. The planet is home to a species of sentient, reptilian creatures known as the Jawas. The Jawas are known for their scavenging and trading practices, and they have a reputation for being cunning and treacherous.\n",
      "\n",
      "The planet Foobar is located in the Outer Rim Territories, a region of space beyond the reaches of the Galactic Republic. It is a rocky, desert-like world with few natural resources and harsh environmental conditions. The Jawas are native to Foobar and have adapted to survive in these conditions, with their long, flexible necks and sharp claws allowing them to scavenge for food and tools.\n",
      "\n",
      "The first mention of Foobar comes in the opening scene of Star Wars: Episode IV - A New Hope, when the spaceship Millennium Falcon is chased by the Imperial Star Destroyer Executor. The Millennium Falcon is forced to crash-land on Foobar, where the crew is captured by the Jawas. The Jawas sell the Millennium Falcon to a local gangster, Jabba the Hutt, and the crew is forced to work as slaves on Jabba's planet Tatooine.\n",
      "\n",
      "Throughout the original trilogy, Foobar is mentioned several times as the location of the Millennium Falcon's crash-landing and the home of Jabba the Hutt. In Return of the Jedi, the Millennium Falcon is finally recovered by the Rebel Alliance, and the crew uses it to escape Tatooine and return to the fight against the Empire.\n",
      "\n",
      "In addition to the Jawas, Foobar is also home to a variety of other creatures, including the Sarlacc, a giant sandworm-like creature that feeds on the Jawas and other species. The Sarlacc is a dangerous and terrifying creature, and it is featured in several scenes throughout the original trilogy, most notably in the scene where Luke Skywalker is captured by the Sarlacc and is forced to fight for his life.\n",
      "\n",
      "Foobar has been featured in a variety of other Star Wars media, including the animated series Star Wars: The Clone Wars, the video game Star Wars: Knights of the Old Republic, and the novelization of Star Wars: Episode IV - A New Hope. The planet has also been the setting for several Star Wars novels and comics, including the popular \"Jedi Academy\" series.\n",
      "\n",
      "Despite its small role in the original\n"
     ]
    }
   ],
   "source": [
    "prompt = \"Write an article about the fictional planet Foobar.\"\n",
    "\n",
    "kwargs = {\n",
    "    \"modelId\": \"amazon.titan-text-express-v1\",\n",
    "    \"contentType\": \"application/json\",\n",
    "    \"accept\": \"*/*\",\n",
    "    \"body\": json.dumps(\n",
    "        {\n",
    "            \"inputText\": prompt,\n",
    "            \"textGenerationConfig\": {\n",
    "                \"maxTokenCount\": 512,\n",
    "                \"temperature\": 0.7,\n",
    "                \"topP\": 0.9\n",
    "            }\n",
    "        }\n",
    "    )\n",
    "}\n",
    "\n",
    "response = bedrock_runtime.invoke_model(**kwargs)\n",
    "response_body = json.loads(response.get('body').read())\n",
    "\n",
    "generation = response_body['results'][0]['outputText']\n",
    "\n",
    "print(generation)"
   ]
  },
  {
   "cell_type": "code",
   "execution_count": 17,
   "id": "68a7bab7",
   "metadata": {
    "height": 30
   },
   "outputs": [
    {
     "name": "stdout",
     "output_type": "stream",
     "text": [
      "Permissions are correctly set for Amazon Bedrock logs.\n",
      "-------------------------\n",
      "\n",
      "{\n",
      "    \"schemaType\": \"ModelInvocationLog\",\n",
      "    \"schemaVersion\": \"1.0\",\n",
      "    \"timestamp\": \"2024-06-14T06:03:39Z\",\n",
      "    \"accountId\": \"144537045289\",\n",
      "    \"identity\": {\n",
      "        \"arn\": \"arn:aws:sts::144537045289:assumed-role/voclabs/user3329832=0\"\n",
      "    },\n",
      "    \"region\": \"us-west-2\",\n",
      "    \"requestId\": \"fac02a11-ac43-4773-afbe-0731e4f512fb\",\n",
      "    \"operation\": \"InvokeModel\",\n",
      "    \"modelId\": \"amazon.titan-text-express-v1\",\n",
      "    \"input\": {\n",
      "        \"inputContentType\": \"application/json\",\n",
      "        \"inputBodyJson\": {\n",
      "            \"inputText\": \"Write an article about the fictional planet Foobar.\",\n",
      "            \"textGenerationConfig\": {\n",
      "                \"maxTokenCount\": 512,\n",
      "                \"temperature\": 0.7,\n",
      "                \"topP\": 0.9\n",
      "            }\n",
      "        },\n",
      "        \"inputTokenCount\": 10\n",
      "    },\n",
      "    \"output\": {\n",
      "        \"outputContentType\": \"application/json\",\n",
      "        \"outputBodyJson\": {\n",
      "            \"inputTextTokenCount\": 10,\n",
      "            \"results\": [\n",
      "                {\n",
      "                    \"tokenCount\": 512,\n",
      "                    \"outputText\": \"\\nFoobar is a fictional planet in the Star Wars universe, first mentioned in the 1977 film Star Wars: Episode IV - A New Hope. The planet is home to a species of sentient, reptilian creatures known as the Jawas. The Jawas are known for their scavenging and trading practices, and they have a reputation for being cunning and treacherous.\\n\\nThe planet Foobar is located in the Outer Rim Territories, a region of space beyond the reaches of the Galactic Republic. It is a rocky, desert-like world with few natural resources and harsh environmental conditions. The Jawas are native to Foobar and have adapted to survive in these conditions, with their long, flexible necks and sharp claws allowing them to scavenge for food and tools.\\n\\nThe first mention of Foobar comes in the opening scene of Star Wars: Episode IV - A New Hope, when the spaceship Millennium Falcon is chased by the Imperial Star Destroyer Executor. The Millennium Falcon is forced to crash-land on Foobar, where the crew is captured by the Jawas. The Jawas sell the Millennium Falcon to a local gangster, Jabba the Hutt, and the crew is forced to work as slaves on Jabba's planet Tatooine.\\n\\nThroughout the original trilogy, Foobar is mentioned several times as the location of the Millennium Falcon's crash-landing and the home of Jabba the Hutt. In Return of the Jedi, the Millennium Falcon is finally recovered by the Rebel Alliance, and the crew uses it to escape Tatooine and return to the fight against the Empire.\\n\\nIn addition to the Jawas, Foobar is also home to a variety of other creatures, including the Sarlacc, a giant sandworm-like creature that feeds on the Jawas and other species. The Sarlacc is a dangerous and terrifying creature, and it is featured in several scenes throughout the original trilogy, most notably in the scene where Luke Skywalker is captured by the Sarlacc and is forced to fight for his life.\\n\\nFoobar has been featured in a variety of other Star Wars media, including the animated series Star Wars: The Clone Wars, the video game Star Wars: Knights of the Old Republic, and the novelization of Star Wars: Episode IV - A New Hope. The planet has also been the setting for several Star Wars novels and comics, including the popular \\\"Jedi Academy\\\" series.\\n\\nDespite its small role in the original\",\n",
      "                    \"completionReason\": \"LENGTH\"\n",
      "                }\n",
      "            ]\n",
      "        },\n",
      "        \"outputTokenCount\": 512\n",
      "    }\n",
      "}\n",
      "-------------------------\n",
      "\n"
     ]
    }
   ],
   "source": [
    "cloudwatch.print_recent_logs(log_group_name)"
   ]
  },
  {
   "cell_type": "markdown",
   "id": "1118acfb",
   "metadata": {},
   "source": [
    "To review the logs within the AWS console, please use the following link to reference the steps outlined in the video:"
   ]
  },
  {
   "cell_type": "code",
   "execution_count": 18,
   "id": "2cf443d2",
   "metadata": {
    "height": 47
   },
   "outputs": [],
   "source": [
    "from IPython.display import HTML\n",
    "aws_url = os.environ['AWS_CONSOLE_URL']"
   ]
  },
  {
   "cell_type": "code",
   "execution_count": 19,
   "id": "0b7c904c",
   "metadata": {
    "height": 47
   },
   "outputs": [
    {
     "data": {
      "text/html": [
       "<a href=\"https://signin.aws.amazon.com/federation?Action=login&SigninToken=IXyDhM3oawLlnwIgUk3v5HHUj9ZeKksCGfJDgbhruDcPQBfPiJ3Ki4yjhYUj5kOvGre85G501S205hyLoc88Nr1b6iVtBeHGiY_KmF3gB6N2Oh7cHTLxQPFs7fY5hpY_ckk74To12O-nLejRWsAWVUxq9siEGZpLGGkVQVwAWz-ocbaRce5zoOU-cuFKlX-yXYW8YO3MQkWwCEn7eBYOUbgLe50eNRCTkYyUAeX1zkaUycbeujHKeBsqfAKyzrds2E_BhnkcJqHdT7auTZHfEdXCKEnx5U4S_DjUhT2E6kTAG-UKWYnRuEihbVWAQJGSKsHNEdPsFO6uXHdzIILG4eu6VlrG66OmUP3oEa2v1q259-UZWHqr0whZMKa-_0kM8nWpcF-ktPBTPNHChPNcIbGfM0-1cmVUO3C7RqhQ5PgEnOLhUhvP45TMTwJZ9cpcYmB8KnHNPoRlpd4xyS0Paf7Tp54Je3GTUm40Mcu3nG4sojiYPtnmqV5krGjUvGm4j72kd_bDE1ITZtC8bZjB01nOOlBeYSbzyKFJBvL1yrMrefTplJAt0vc6T6zcGnuHyUGfAJg8-V8RYEwwwTN0fTmXKNbEXikCC8s-Cvq9Lq1hHoB8QYVHn3LN0e5nxHyGu2ASEsPVEO47kTSspCa25IOvPOKyjXpe9gdJRL7EmNAgCyqOc-DemdDl0pgIipCJo3F_S-Qi0oGAWegS9Jql8imVvm4absXdEd0TYUm09OIsYiWUNRoY84-KAMBbCRjU2IUTydN01soggoipzs5k5Q075_tJVvaNhyrDaLIqqi5DjnKn__J7iCbKDdxUthPIyuuDslFAQvtG_xu4N4Dcrdy626RMCe3JRHV5ipqXaiUTtqxofXLkN3e86FP0Tu3wrOMTILejQOo-sGhr7bzdy5knbAneRT7BgdSh0JPAYv6ZaS8G7r9c8TR1rQxfwa04ammdSLPi3E8qDoTtZAKZl6CNDIITQzdA70FKhjbZA4TXNItRVzNL4TnhCpOvaq9BTdr-bkIYd6hgdu0Y3UPDb-QXDWP9_akEVeaPkh1ybTFgk9VvIayphkOFsymW2A7HTf2m5TApo0oj8GCkw2KtSt7IMrN2zNeTUcFlVfePaiYOtgso3m6Yerq8oD7yp2FdybenQiy5dytQzDwEn4mWfBCR_NXKqRaTLpLgYe0iif_t3hhSm25vxhyGsM3z0x4-eUD-rDx8LCucTeQ_GVjbpx_k3wVnxAyzIyjOIFPRNCj16Rkc7bWCSwquDyIJXY2xye6ihqPp8Fq10mIsR9AecJkBtNa7Mkuo_dIB5vsdVBZa-DAn-13A8D1fcGh-TxAZAvJPWHBBQ0FXTdss44OLWXxQpn_lXjaEJCLBOole7XszoBM1zCOk3eHGnmL5PhEeJLQd9G-nVxT7Z9E2NDcgRT6F2cPSdhKxGfCTcPL4xVm6hE-bvTY&Issuer=https%3A%2F%2Fapi.vocareum.com&Destination=https%3A%2F%2Fconsole.aws.amazon.com%2Fconsole%2Fhome%3Fregion%3Dus-west-2\" target=\"_blank\">GO TO AWS CONSOLE</a>"
      ],
      "text/plain": [
       "<IPython.core.display.HTML object>"
      ]
     },
     "execution_count": 19,
     "metadata": {},
     "output_type": "execute_result"
    }
   ],
   "source": [
    "HTML(f'<a href=\"{aws_url}\" target=\"_blank\">GO TO AWS CONSOLE</a>')\n"
   ]
  }
 ],
 "metadata": {
  "kernelspec": {
   "display_name": "Python 3 (ipykernel)",
   "language": "python",
   "name": "python3"
  },
  "language_info": {
   "codemirror_mode": {
    "name": "ipython",
    "version": 3
   },
   "file_extension": ".py",
   "mimetype": "text/x-python",
   "name": "python",
   "nbconvert_exporter": "python",
   "pygments_lexer": "ipython3",
   "version": "3.11.9"
  }
 },
 "nbformat": 4,
 "nbformat_minor": 5
}
